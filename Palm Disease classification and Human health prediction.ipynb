{
 "cells": [
  {
   "cell_type": "markdown",
   "id": "c5075876-7741-49ac-a666-5d60d5678a59",
   "metadata": {},
   "source": [
    "### Step 1: Import Libraries and Setup"
   ]
  },
  {
   "cell_type": "code",
   "execution_count": 1,
   "id": "7fc2d1eb-dded-46bf-a898-243cfab20ed1",
   "metadata": {},
   "outputs": [
    {
     "name": "stdout",
     "output_type": "stream",
     "text": [
      "TensorFlow version: 2.18.0\n"
     ]
    }
   ],
   "source": [
    "import tensorflow as tf\n",
    "from tensorflow.keras.models import Sequential\n",
    "from tensorflow.keras.layers import Conv2D, MaxPooling2D, Flatten, Dense, Dropout\n",
    "from tensorflow.keras.preprocessing.image import ImageDataGenerator\n",
    "from tensorflow.keras.callbacks import ModelCheckpoint\n",
    "from sklearn.metrics import classification_report, confusion_matrix, roc_curve, auc\n",
    "import numpy as np\n",
    "import matplotlib.pyplot as plt\n",
    "import seaborn as sns\n",
    "import cv2\n",
    "from PIL import Image\n",
    "import gradio as gr\n",
    "\n",
    "# Verify TensorFlow version\n",
    "print(f\"TensorFlow version: {tf.__version__}\")\n"
   ]
  },
  {
   "cell_type": "markdown",
   "id": "9d022547-92b9-4f37-9bdd-74598c537359",
   "metadata": {},
   "source": [
    "### Step 2: Data Preparation"
   ]
  },
  {
   "cell_type": "code",
   "execution_count": 2,
   "id": "636552d6-f904-4eca-9d75-08407ab05511",
   "metadata": {},
   "outputs": [
    {
     "name": "stdout",
     "output_type": "stream",
     "text": [
      "Datasets unzipped successfully!\n"
     ]
    }
   ],
   "source": [
    "import zipfile\n",
    "import os\n",
    "\n",
    "# Define the paths to the .zip files and the target extraction folders\n",
    "train_zip_path = r\"C:\\Users\\komal\\Downloads\\train_dir.zip\"\n",
    "test_zip_path = r\"C:\\Users\\komal\\Downloads\\test_dir.zip\"\n",
    "extract_train_dir = r\"C:\\Users\\komal\\Downloads\\dataset\\train\"\n",
    "extract_test_dir = r\"C:\\Users\\komal\\Downloads\\dataset\\test\"\n",
    "\n",
    "# Extract the training dataset\n",
    "with zipfile.ZipFile(train_zip_path, 'r') as zip_ref:\n",
    "    zip_ref.extractall(extract_train_dir)\n",
    "\n",
    "# Extract the testing dataset\n",
    "with zipfile.ZipFile(test_zip_path, 'r') as zip_ref:\n",
    "    zip_ref.extractall(extract_test_dir)\n",
    "\n",
    "print(\"Datasets unzipped successfully!\")\n"
   ]
  },
  {
   "cell_type": "code",
   "execution_count": 3,
   "id": "8b1f28c8-4376-45ca-9f72-8583ca2fbbc9",
   "metadata": {},
   "outputs": [
    {
     "name": "stdout",
     "output_type": "stream",
     "text": [
      "Found 4210 images belonging to 1 classes.\n",
      "Found 1052 images belonging to 1 classes.\n",
      "Found 1159 images belonging to 1 classes.\n"
     ]
    }
   ],
   "source": [
    "from tensorflow.keras.preprocessing.image import ImageDataGenerator\n",
    "\n",
    "# Paths to extracted folders\n",
    "train_dir = r\"C:\\Users\\komal\\Downloads\\dataset\\train\"\n",
    "test_dir = r\"C:\\Users\\komal\\Downloads\\dataset\\test\"\n",
    "\n",
    "# Image Data Generator for Augmentation\n",
    "datagen = ImageDataGenerator(\n",
    "    rescale=1.0 / 255.0,\n",
    "    rotation_range=20,\n",
    "    width_shift_range=0.2,\n",
    "    height_shift_range=0.2,\n",
    "    horizontal_flip=True,\n",
    "    validation_split=0.2\n",
    ")\n",
    "\n",
    "# Training data generator\n",
    "train_gen = datagen.flow_from_directory(\n",
    "    train_dir,\n",
    "    target_size=(128, 128),\n",
    "    batch_size=32,\n",
    "    class_mode='categorical',\n",
    "    subset='training'\n",
    ")\n",
    "\n",
    "# Validation data generator\n",
    "val_gen = datagen.flow_from_directory(\n",
    "    train_dir,\n",
    "    target_size=(128, 128),\n",
    "    batch_size=32,\n",
    "    class_mode='categorical',\n",
    "    subset='validation'\n",
    ")\n",
    "\n",
    "# Test data generator\n",
    "test_datagen = ImageDataGenerator(rescale=1.0 / 255.0)\n",
    "test_gen = test_datagen.flow_from_directory(\n",
    "    test_dir,\n",
    "    target_size=(128, 128),\n",
    "    batch_size=32,\n",
    "    class_mode='categorical',\n",
    "    shuffle=False\n",
    ")\n"
   ]
  },
  {
   "cell_type": "markdown",
   "id": "ad26025f-2e19-4e9b-96f4-4dad76104e85",
   "metadata": {},
   "source": [
    "### Step 3: Set Up and Train the Model"
   ]
  },
  {
   "cell_type": "code",
   "execution_count": 4,
   "id": "b5036fed-ea0b-4be7-b153-e680001f0d7a",
   "metadata": {},
   "outputs": [
    {
     "name": "stderr",
     "output_type": "stream",
     "text": [
      "C:\\Users\\komal\\anaconda3\\envs\\myenv\\lib\\site-packages\\keras\\src\\layers\\convolutional\\base_conv.py:107: UserWarning: Do not pass an `input_shape`/`input_dim` argument to a layer. When using Sequential models, prefer using an `Input(shape)` object as the first layer in the model instead.\n",
      "  super().__init__(activity_regularizer=activity_regularizer, **kwargs)\n",
      "C:\\Users\\komal\\anaconda3\\envs\\myenv\\lib\\site-packages\\keras\\src\\trainers\\data_adapters\\py_dataset_adapter.py:121: UserWarning: Your `PyDataset` class should call `super().__init__(**kwargs)` in its constructor. `**kwargs` can include `workers`, `use_multiprocessing`, `max_queue_size`. Do not pass these arguments to `fit()`, as they will be ignored.\n",
      "  self._warn_if_super_not_called()\n"
     ]
    },
    {
     "name": "stdout",
     "output_type": "stream",
     "text": [
      "Epoch 1/50\n"
     ]
    },
    {
     "name": "stderr",
     "output_type": "stream",
     "text": [
      "C:\\Users\\komal\\anaconda3\\envs\\myenv\\lib\\site-packages\\keras\\src\\ops\\nn.py:545: UserWarning: You are using a softmax over axis -1 of a tensor of shape (None, 1). This axis has size 1. The softmax operation will always return the value 1, which is likely not what you intended. Did you mean to use a sigmoid instead?\n",
      "  warnings.warn(\n",
      "C:\\Users\\komal\\anaconda3\\envs\\myenv\\lib\\site-packages\\keras\\src\\losses\\losses.py:27: SyntaxWarning: In loss categorical_crossentropy, expected y_pred.shape to be (batch_size, num_classes) with num_classes > 1. Received: y_pred.shape=(None, 1). Consider using 'binary_crossentropy' if you only have 2 classes.\n",
      "  return self.fn(y_true, y_pred, **self._fn_kwargs)\n"
     ]
    },
    {
     "name": "stdout",
     "output_type": "stream",
     "text": [
      "\u001b[1m132/132\u001b[0m \u001b[32m━━━━━━━━━━━━━━━━━━━━\u001b[0m\u001b[37m\u001b[0m \u001b[1m28s\u001b[0m 203ms/step - accuracy: 1.0000 - loss: 0.0000e+00 - val_accuracy: 1.0000 - val_loss: 0.0000e+00\n",
      "Epoch 2/50\n",
      "\u001b[1m132/132\u001b[0m \u001b[32m━━━━━━━━━━━━━━━━━━━━\u001b[0m\u001b[37m\u001b[0m \u001b[1m26s\u001b[0m 200ms/step - accuracy: 1.0000 - loss: 0.0000e+00 - val_accuracy: 1.0000 - val_loss: 0.0000e+00\n",
      "Epoch 3/50\n",
      "\u001b[1m132/132\u001b[0m \u001b[32m━━━━━━━━━━━━━━━━━━━━\u001b[0m\u001b[37m\u001b[0m \u001b[1m27s\u001b[0m 201ms/step - accuracy: 1.0000 - loss: 0.0000e+00 - val_accuracy: 1.0000 - val_loss: 0.0000e+00\n",
      "Epoch 4/50\n",
      "\u001b[1m132/132\u001b[0m \u001b[32m━━━━━━━━━━━━━━━━━━━━\u001b[0m\u001b[37m\u001b[0m \u001b[1m26s\u001b[0m 200ms/step - accuracy: 1.0000 - loss: 0.0000e+00 - val_accuracy: 1.0000 - val_loss: 0.0000e+00\n",
      "Epoch 5/50\n",
      "\u001b[1m132/132\u001b[0m \u001b[32m━━━━━━━━━━━━━━━━━━━━\u001b[0m\u001b[37m\u001b[0m \u001b[1m26s\u001b[0m 199ms/step - accuracy: 1.0000 - loss: 0.0000e+00 - val_accuracy: 1.0000 - val_loss: 0.0000e+00\n",
      "Epoch 6/50\n",
      "\u001b[1m132/132\u001b[0m \u001b[32m━━━━━━━━━━━━━━━━━━━━\u001b[0m\u001b[37m\u001b[0m \u001b[1m26s\u001b[0m 199ms/step - accuracy: 1.0000 - loss: 0.0000e+00 - val_accuracy: 1.0000 - val_loss: 0.0000e+00\n",
      "Epoch 7/50\n",
      "\u001b[1m132/132\u001b[0m \u001b[32m━━━━━━━━━━━━━━━━━━━━\u001b[0m\u001b[37m\u001b[0m \u001b[1m26s\u001b[0m 198ms/step - accuracy: 1.0000 - loss: 0.0000e+00 - val_accuracy: 1.0000 - val_loss: 0.0000e+00\n",
      "Epoch 8/50\n",
      "\u001b[1m132/132\u001b[0m \u001b[32m━━━━━━━━━━━━━━━━━━━━\u001b[0m\u001b[37m\u001b[0m \u001b[1m26s\u001b[0m 200ms/step - accuracy: 1.0000 - loss: 0.0000e+00 - val_accuracy: 1.0000 - val_loss: 0.0000e+00\n",
      "Epoch 9/50\n",
      "\u001b[1m132/132\u001b[0m \u001b[32m━━━━━━━━━━━━━━━━━━━━\u001b[0m\u001b[37m\u001b[0m \u001b[1m26s\u001b[0m 199ms/step - accuracy: 1.0000 - loss: 0.0000e+00 - val_accuracy: 1.0000 - val_loss: 0.0000e+00\n",
      "Epoch 10/50\n",
      "\u001b[1m132/132\u001b[0m \u001b[32m━━━━━━━━━━━━━━━━━━━━\u001b[0m\u001b[37m\u001b[0m \u001b[1m27s\u001b[0m 204ms/step - accuracy: 1.0000 - loss: 0.0000e+00 - val_accuracy: 1.0000 - val_loss: 0.0000e+00\n",
      "Epoch 11/50\n",
      "\u001b[1m132/132\u001b[0m \u001b[32m━━━━━━━━━━━━━━━━━━━━\u001b[0m\u001b[37m\u001b[0m \u001b[1m27s\u001b[0m 201ms/step - accuracy: 1.0000 - loss: 0.0000e+00 - val_accuracy: 1.0000 - val_loss: 0.0000e+00\n",
      "Model training complete and saved as 'CustomPalmDiseaseModel.keras'\n"
     ]
    }
   ],
   "source": [
    "from tensorflow.keras.models import Sequential\n",
    "from tensorflow.keras.layers import Conv2D, MaxPooling2D, Flatten, Dense, Dropout\n",
    "from tensorflow.keras.callbacks import ModelCheckpoint, EarlyStopping\n",
    "\n",
    "# Define a CNN Model\n",
    "model = Sequential([\n",
    "    Conv2D(32, (3, 3), activation='relu', input_shape=(128, 128, 3)),\n",
    "    MaxPooling2D(2, 2),\n",
    "    \n",
    "    Conv2D(64, (3, 3), activation='relu'),\n",
    "    MaxPooling2D(2, 2),\n",
    "    \n",
    "    Conv2D(128, (3, 3), activation='relu'),\n",
    "    MaxPooling2D(2, 2),\n",
    "    \n",
    "    Flatten(),\n",
    "    Dense(256, activation='relu'),\n",
    "    Dropout(0.5),\n",
    "    Dense(train_gen.num_classes, activation='softmax')\n",
    "])\n",
    "\n",
    "# Compile the Model\n",
    "model.compile(optimizer='adam', loss='categorical_crossentropy', metrics=['accuracy'])\n",
    "\n",
    "# Set up ModelCheckpoint to save the best model\n",
    "checkpoint = ModelCheckpoint(\"CustomPalmDiseaseModel.keras\", monitor='val_accuracy', save_best_only=True)\n",
    "early_stopping = EarlyStopping(monitor='val_loss', patience=10)\n",
    "\n",
    "# Train the Model\n",
    "history = model.fit(train_gen, validation_data=val_gen, epochs=50, callbacks=[checkpoint, early_stopping])\n",
    "print(\"Model training complete and saved as 'CustomPalmDiseaseModel.keras'\")\n"
   ]
  },
  {
   "cell_type": "markdown",
   "id": "c6690a2b-799e-4d8c-a33a-8a1238fc9699",
   "metadata": {},
   "source": [
    "### Step 4: Model Evaluation and Metrics Calculation"
   ]
  },
  {
   "cell_type": "code",
   "execution_count": 6,
   "id": "923c4d21-ac0f-407a-8d8d-9c59dd37add1",
   "metadata": {},
   "outputs": [
    {
     "name": "stdout",
     "output_type": "stream",
     "text": [
      "Model loaded successfully.\n",
      "\u001b[1m 3/37\u001b[0m \u001b[32m━\u001b[0m\u001b[37m━━━━━━━━━━━━━━━━━━━\u001b[0m \u001b[1m1s\u001b[0m 35ms/step "
     ]
    },
    {
     "name": "stderr",
     "output_type": "stream",
     "text": [
      "C:\\Users\\komal\\anaconda3\\envs\\myenv\\lib\\site-packages\\keras\\src\\ops\\nn.py:545: UserWarning: You are using a softmax over axis -1 of a tensor of shape (32, 1). This axis has size 1. The softmax operation will always return the value 1, which is likely not what you intended. Did you mean to use a sigmoid instead?\n",
      "  warnings.warn(\n"
     ]
    },
    {
     "name": "stdout",
     "output_type": "stream",
     "text": [
      "\u001b[1m37/37\u001b[0m \u001b[32m━━━━━━━━━━━━━━━━━━━━\u001b[0m\u001b[37m\u001b[0m \u001b[1m2s\u001b[0m 40ms/step\n",
      "Classification Report:\n",
      "              precision    recall  f1-score   support\n",
      "\n",
      "    test_dir       1.00      1.00      1.00      1159\n",
      "\n",
      "    accuracy                           1.00      1159\n",
      "   macro avg       1.00      1.00      1.00      1159\n",
      "weighted avg       1.00      1.00      1.00      1159\n",
      "\n"
     ]
    },
    {
     "name": "stderr",
     "output_type": "stream",
     "text": [
      "C:\\Users\\komal\\anaconda3\\envs\\myenv\\lib\\site-packages\\sklearn\\metrics\\_classification.py:409: UserWarning: A single label was found in 'y_true' and 'y_pred'. For the confusion matrix to have the correct shape, use the 'labels' parameter to pass all known labels.\n",
      "  warnings.warn(\n"
     ]
    },
    {
     "data": {
      "image/png": "[encoded data removed]",
      "text/plain": [
       "<Figure size 800x600 with 2 Axes>"
      ]
     },
     "metadata": {},
     "output_type": "display_data"
    }
   ],
   "source": [
    "from sklearn.metrics import classification_report, confusion_matrix\n",
    "import numpy as np\n",
    "import matplotlib.pyplot as plt\n",
    "import seaborn as sns\n",
    "\n",
    "# Load the trained model\n",
    "model = tf.keras.models.load_model(\"CustomPalmDiseaseModel.keras\")\n",
    "print(\"Model loaded successfully.\")\n",
    "\n",
    "# Reset the test generator\n",
    "test_gen.reset()\n",
    "\n",
    "# Generate predictions\n",
    "predictions = model.predict(test_gen)\n",
    "predicted_classes = np.argmax(predictions, axis=1)\n",
    "true_classes = test_gen.classes\n",
    "class_labels = list(test_gen.class_indices.keys())\n",
    "\n",
    "# Print classification report\n",
    "print(\"Classification Report:\")\n",
    "print(classification_report(true_classes, predicted_classes, target_names=class_labels))\n",
    "\n",
    "# Confusion Matrix\n",
    "conf_matrix = confusion_matrix(true_classes, predicted_classes)\n",
    "plt.figure(figsize=(8, 6))\n",
    "sns.heatmap(conf_matrix, annot=True, fmt='d', cmap='Blues', xticklabels=class_labels, yticklabels=class_labels)\n",
    "plt.title(\"Confusion Matrix\")\n",
    "plt.xlabel(\"Predicted Class\")\n",
    "plt.ylabel(\"True Class\")\n",
    "plt.show()\n"
   ]
  },
  {
   "cell_type": "markdown",
   "id": "ec7ece10-af3d-404e-877d-ee25c1d6e252",
   "metadata": {},
   "source": [
    "### Step 5: Visualize Training and Validation Accuracy and Loss"
   ]
  },
  {
   "cell_type": "code",
   "execution_count": 7,
   "id": "62b689db-65c8-4bbb-9296-9bda6432afc1",
   "metadata": {},
   "outputs": [
    {
     "data": {
      "image/png": "[encoded data removed]",
      "text/plain": [
       "<Figure size 1200x400 with 2 Axes>"
      ]
     },
     "metadata": {},
     "output_type": "display_data"
    }
   ],
   "source": [
    "# Plotting training & validation accuracy and loss\n",
    "plt.figure(figsize=(12, 4))\n",
    "\n",
    "# Accuracy plot\n",
    "plt.subplot(1, 2, 1)\n",
    "plt.plot(history.history['accuracy'], label='Train Accuracy')\n",
    "plt.plot(history.history['val_accuracy'], label='Validation Accuracy')\n",
    "plt.xlabel('Epoch')\n",
    "plt.ylabel('Accuracy')\n",
    "plt.legend()\n",
    "plt.title('Model Accuracy')\n",
    "\n",
    "# Loss plot\n",
    "plt.subplot(1, 2, 2)\n",
    "plt.plot(history.history['loss'], label='Train Loss')\n",
    "plt.plot(history.history['val_loss'], label='Validation Loss')\n",
    "plt.xlabel('Epoch')\n",
    "plt.ylabel('Loss')\n",
    "plt.legend()\n",
    "plt.title('Model Loss')\n",
    "\n",
    "plt.show()\n"
   ]
  },
  {
   "cell_type": "markdown",
   "id": "7e8eef9c-18bb-45af-b453-e83884688261",
   "metadata": {},
   "source": [
    "### Step 6: Grad-CAM for Model Interpretation"
   ]
  },
  {
   "cell_type": "code",
   "execution_count": 9,
   "id": "a445710e-8793-4f73-91dd-1b6ae03ceb04",
   "metadata": {},
   "outputs": [],
   "source": [
    "from tensorflow.keras import backend as K\n",
    "import cv2\n",
    "\n",
    "def get_gradcam_heatmap(img_array, model, layer_name, class_idx):\n",
    "    grad_model = tf.keras.models.Model([model.inputs], [model.get_layer(layer_name).output, model.output])\n",
    "    with tf.GradientTape() as tape:\n",
    "        conv_outputs, predictions = grad_model(img_array)\n",
    "        loss = predictions[:, class_idx]\n",
    "\n",
    "    grads = tape.gradient(loss, conv_outputs)\n",
    "    pooled_grads = K.mean(grads, axis=(0, 1, 2))\n",
    "    conv_outputs = conv_outputs[0]\n",
    "\n",
    "    for i in range(pooled_grads.shape[-1]):\n",
    "        conv_outputs[:, :, i] *= pooled_grads[i]\n",
    "\n",
    "    heatmap = np.mean(conv_outputs, axis=-1)\n",
    "    heatmap = np.maximum(heatmap, 0) / np.max(heatmap)\n",
    "    return heatmap\n",
    "\n",
    "def overlay_gradcam(img_path, heatmap, alpha=0.4):\n",
    "    img = cv2.imread(img_path)\n",
    "    heatmap = cv2.resize(heatmap, (img.shape[1], img.shape[0]))\n",
    "    heatmap = cv2.applyColorMap(np.uint8(255 * heatmap), cv2.COLORMAP_JET)\n",
    "    superimposed_img = cv2.addWeighted(heatmap, alpha, img, 1 - alpha, 0)\n",
    "    return superimposed_img\n",
    "\n",
    "# Use Grad-CAM to explain a sample prediction\n",
    "def explain_prediction(img_path, model, layer_name=\"conv2d_2\"):\n",
    "    img = image.load_img(img_path, target_size=(128, 128))\n",
    "    img_array = np.expand_dims(image.img_to_array(img) / 255.0, axis=0)\n",
    "\n",
    "    predictions = model.predict(img_array)\n",
    "    class_idx = np.argmax(predictions[0])\n",
    "    heatmap = get_gradcam_heatmap(img_array, model, layer_name, class_idx)\n",
    "\n",
    "    overlay_img = overlay_gradcam(img_path, heatmap)\n",
    "    plt.imshow(overlay_img)\n",
    "    plt.axis('off')\n",
    "    plt.title(f\"Grad-CAM: Predicted - {class_labels[class_idx]}\")\n",
    "    plt.show()\n"
   ]
  },
  {
   "cell_type": "markdown",
   "id": "24d23518-607b-48ea-9a74-d9dbd9c21835",
   "metadata": {},
   "source": [
    "### Step 7: Streamlit Interface for Real-Time Prediction"
   ]
  },
  {
   "cell_type": "code",
   "execution_count": 12,
   "id": "517a2266-b44d-4a15-82d0-df8131b14083",
   "metadata": {},
   "outputs": [
    {
     "name": "stdout",
     "output_type": "stream",
     "text": [
      "Requirement already satisfied: streamlit in c:\\users\\komal\\anaconda3\\envs\\myenv\\lib\\site-packages (1.39.0)\n",
      "Requirement already satisfied: altair<6,>=4.0 in c:\\users\\komal\\anaconda3\\envs\\myenv\\lib\\site-packages (from streamlit) (5.0.1)\n",
      "Requirement already satisfied: blinker<2,>=1.0.0 in c:\\users\\komal\\anaconda3\\envs\\myenv\\lib\\site-packages (from streamlit) (1.6.2)\n",
      "Requirement already satisfied: cachetools<6,>=4.0 in c:\\users\\komal\\anaconda3\\envs\\myenv\\lib\\site-packages (from streamlit) (5.3.3)\n",
      "Requirement already satisfied: click<9,>=7.0 in c:\\users\\komal\\anaconda3\\envs\\myenv\\lib\\site-packages (from streamlit) (8.1.7)\n",
      "Requirement already satisfied: numpy<3,>=1.20 in c:\\users\\komal\\anaconda3\\envs\\myenv\\lib\\site-packages (from streamlit) (1.26.4)\n",
      "Requirement already satisfied: packaging<25,>=20 in c:\\users\\komal\\anaconda3\\envs\\myenv\\lib\\site-packages (from streamlit) (24.1)\n",
      "Requirement already satisfied: pandas<3,>=1.4.0 in c:\\users\\komal\\anaconda3\\envs\\myenv\\lib\\site-packages (from streamlit) (2.2.2)\n",
      "Requirement already satisfied: pillow<11,>=7.1.0 in c:\\users\\komal\\anaconda3\\envs\\myenv\\lib\\site-packages (from streamlit) (10.4.0)\n",
      "Requirement already satisfied: protobuf<6,>=3.20 in c:\\users\\komal\\anaconda3\\envs\\myenv\\lib\\site-packages (from streamlit) (5.28.3)\n",
      "Requirement already satisfied: pyarrow>=7.0 in c:\\users\\komal\\anaconda3\\envs\\myenv\\lib\\site-packages (from streamlit) (11.0.0)\n",
      "Requirement already satisfied: requests<3,>=2.27 in c:\\users\\komal\\anaconda3\\envs\\myenv\\lib\\site-packages (from streamlit) (2.32.3)\n",
      "Requirement already satisfied: rich<14,>=10.14.0 in c:\\users\\komal\\anaconda3\\envs\\myenv\\lib\\site-packages (from streamlit) (13.7.1)\n",
      "Requirement already satisfied: tenacity<10,>=8.1.0 in c:\\users\\komal\\anaconda3\\envs\\myenv\\lib\\site-packages (from streamlit) (9.0.0)\n",
      "Requirement already satisfied: toml<2,>=0.10.1 in c:\\users\\komal\\anaconda3\\envs\\myenv\\lib\\site-packages (from streamlit) (0.10.2)\n",
      "Requirement already satisfied: typing-extensions<5,>=4.3.0 in c:\\users\\komal\\anaconda3\\envs\\myenv\\lib\\site-packages (from streamlit) (4.11.0)\n",
      "Requirement already satisfied: gitpython!=3.1.19,<4,>=3.0.7 in c:\\users\\komal\\anaconda3\\envs\\myenv\\lib\\site-packages (from streamlit) (3.1.43)\n",
      "Requirement already satisfied: pydeck<1,>=0.8.0b4 in c:\\users\\komal\\anaconda3\\envs\\myenv\\lib\\site-packages (from streamlit) (0.8.0)\n",
      "Requirement already satisfied: tornado<7,>=6.0.3 in c:\\users\\komal\\anaconda3\\envs\\myenv\\lib\\site-packages (from streamlit) (6.4.1)\n",
      "Requirement already satisfied: watchdog<6,>=2.1.5 in c:\\users\\komal\\anaconda3\\envs\\myenv\\lib\\site-packages (from streamlit) (4.0.1)\n",
      "Requirement already satisfied: jinja2 in c:\\users\\komal\\anaconda3\\envs\\myenv\\lib\\site-packages (from altair<6,>=4.0->streamlit) (3.1.4)\n",
      "Requirement already satisfied: jsonschema>=3.0 in c:\\users\\komal\\anaconda3\\envs\\myenv\\lib\\site-packages (from altair<6,>=4.0->streamlit) (4.23.0)\n",
      "Requirement already satisfied: toolz in c:\\users\\komal\\anaconda3\\envs\\myenv\\lib\\site-packages (from altair<6,>=4.0->streamlit) (0.12.0)\n",
      "Requirement already satisfied: colorama in c:\\users\\komal\\anaconda3\\envs\\myenv\\lib\\site-packages (from click<9,>=7.0->streamlit) (0.4.6)\n",
      "Requirement already satisfied: gitdb<5,>=4.0.1 in c:\\users\\komal\\anaconda3\\envs\\myenv\\lib\\site-packages (from gitpython!=3.1.19,<4,>=3.0.7->streamlit) (4.0.7)\n",
      "Requirement already satisfied: python-dateutil>=2.8.2 in c:\\users\\komal\\anaconda3\\envs\\myenv\\lib\\site-packages (from pandas<3,>=1.4.0->streamlit) (2.9.0.post0)\n",
      "Requirement already satisfied: pytz>=2020.1 in c:\\users\\komal\\anaconda3\\envs\\myenv\\lib\\site-packages (from pandas<3,>=1.4.0->streamlit) (2024.1)\n",
      "Requirement already satisfied: tzdata>=2022.7 in c:\\users\\komal\\anaconda3\\envs\\myenv\\lib\\site-packages (from pandas<3,>=1.4.0->streamlit) (2023.3)\n",
      "Requirement already satisfied: charset-normalizer<4,>=2 in c:\\users\\komal\\anaconda3\\envs\\myenv\\lib\\site-packages (from requests<3,>=2.27->streamlit) (3.3.2)\n",
      "Requirement already satisfied: idna<4,>=2.5 in c:\\users\\komal\\anaconda3\\envs\\myenv\\lib\\site-packages (from requests<3,>=2.27->streamlit) (3.7)\n",
      "Requirement already satisfied: urllib3<3,>=1.21.1 in c:\\users\\komal\\anaconda3\\envs\\myenv\\lib\\site-packages (from requests<3,>=2.27->streamlit) (2.2.3)\n",
      "Requirement already satisfied: certifi>=2017.4.17 in c:\\users\\komal\\anaconda3\\envs\\myenv\\lib\\site-packages (from requests<3,>=2.27->streamlit) (2024.8.30)\n",
      "Requirement already satisfied: markdown-it-py>=2.2.0 in c:\\users\\komal\\anaconda3\\envs\\myenv\\lib\\site-packages (from rich<14,>=10.14.0->streamlit) (2.2.0)\n",
      "Requirement already satisfied: pygments<3.0.0,>=2.13.0 in c:\\users\\komal\\anaconda3\\envs\\myenv\\lib\\site-packages (from rich<14,>=10.14.0->streamlit) (2.15.1)\n",
      "Requirement already satisfied: smmap<5,>=3.0.1 in c:\\users\\komal\\anaconda3\\envs\\myenv\\lib\\site-packages (from gitdb<5,>=4.0.1->gitpython!=3.1.19,<4,>=3.0.7->streamlit) (4.0.0)\n",
      "Requirement already satisfied: MarkupSafe>=2.0 in c:\\users\\komal\\anaconda3\\envs\\myenv\\lib\\site-packages (from jinja2->altair<6,>=4.0->streamlit) (2.1.3)\n",
      "Requirement already satisfied: attrs>=22.2.0 in c:\\users\\komal\\anaconda3\\envs\\myenv\\lib\\site-packages (from jsonschema>=3.0->altair<6,>=4.0->streamlit) (24.2.0)\n",
      "Requirement already satisfied: jsonschema-specifications>=2023.03.6 in c:\\users\\komal\\anaconda3\\envs\\myenv\\lib\\site-packages (from jsonschema>=3.0->altair<6,>=4.0->streamlit) (2023.7.1)\n",
      "Requirement already satisfied: referencing>=0.28.4 in c:\\users\\komal\\anaconda3\\envs\\myenv\\lib\\site-packages (from jsonschema>=3.0->altair<6,>=4.0->streamlit) (0.30.2)\n",
      "Requirement already satisfied: rpds-py>=0.7.1 in c:\\users\\komal\\anaconda3\\envs\\myenv\\lib\\site-packages (from jsonschema>=3.0->altair<6,>=4.0->streamlit) (0.10.6)\n",
      "Requirement already satisfied: mdurl~=0.1 in c:\\users\\komal\\anaconda3\\envs\\myenv\\lib\\site-packages (from markdown-it-py>=2.2.0->rich<14,>=10.14.0->streamlit) (0.1.0)\n",
      "Requirement already satisfied: six>=1.5 in c:\\users\\komal\\anaconda3\\envs\\myenv\\lib\\site-packages (from python-dateutil>=2.8.2->pandas<3,>=1.4.0->streamlit) (1.16.0)\n",
      "Note: you may need to restart the kernel to use updated packages.\n"
     ]
    }
   ],
   "source": [
    "pip install streamlit"
   ]
  },
  {
   "cell_type": "code",
   "execution_count": 14,
   "id": "3afaa967-119a-48a8-9926-6ec422095d50",
   "metadata": {},
   "outputs": [
    {
     "name": "stdout",
     "output_type": "stream",
     "text": [
      "Collecting jupyter-server-proxy\n",
      "  Downloading jupyter_server_proxy-4.4.0-py3-none-any.whl.metadata (8.7 kB)\n",
      "Requirement already satisfied: aiohttp in c:\\users\\komal\\anaconda3\\envs\\myenv\\lib\\site-packages (from jupyter-server-proxy) (3.10.10)\n",
      "Requirement already satisfied: importlib-metadata>=4.8.3 in c:\\users\\komal\\anaconda3\\envs\\myenv\\lib\\site-packages (from jupyter-server-proxy) (7.0.1)\n",
      "Requirement already satisfied: jupyter-server>=1.24.0 in c:\\users\\komal\\anaconda3\\envs\\myenv\\lib\\site-packages (from jupyter-server-proxy) (2.14.1)\n",
      "Collecting simpervisor>=1.0.0 (from jupyter-server-proxy)\n",
      "  Downloading simpervisor-1.0.0-py3-none-any.whl.metadata (4.3 kB)\n",
      "Requirement already satisfied: tornado>=6.1.0 in c:\\users\\komal\\anaconda3\\envs\\myenv\\lib\\site-packages (from jupyter-server-proxy) (6.4.1)\n",
      "Requirement already satisfied: traitlets>=5.1.0 in c:\\users\\komal\\anaconda3\\envs\\myenv\\lib\\site-packages (from jupyter-server-proxy) (5.14.3)\n",
      "Requirement already satisfied: zipp>=0.5 in c:\\users\\komal\\anaconda3\\envs\\myenv\\lib\\site-packages (from importlib-metadata>=4.8.3->jupyter-server-proxy) (3.20.2)\n",
      "Requirement already satisfied: anyio>=3.1.0 in c:\\users\\komal\\anaconda3\\envs\\myenv\\lib\\site-packages (from jupyter-server>=1.24.0->jupyter-server-proxy) (3.7.1)\n",
      "Requirement already satisfied: argon2-cffi>=21.1 in c:\\users\\komal\\anaconda3\\envs\\myenv\\lib\\site-packages (from jupyter-server>=1.24.0->jupyter-server-proxy) (21.3.0)\n",
      "Requirement already satisfied: jinja2>=3.0.3 in c:\\users\\komal\\anaconda3\\envs\\myenv\\lib\\site-packages (from jupyter-server>=1.24.0->jupyter-server-proxy) (3.1.4)\n",
      "Requirement already satisfied: jupyter-client>=7.4.4 in c:\\users\\komal\\anaconda3\\envs\\myenv\\lib\\site-packages (from jupyter-server>=1.24.0->jupyter-server-proxy) (8.6.0)\n",
      "Requirement already satisfied: jupyter-core!=5.0.*,>=4.12 in c:\\users\\komal\\anaconda3\\envs\\myenv\\lib\\site-packages (from jupyter-server>=1.24.0->jupyter-server-proxy) (5.7.2)\n",
      "Requirement already satisfied: jupyter-events>=0.9.0 in c:\\users\\komal\\anaconda3\\envs\\myenv\\lib\\site-packages (from jupyter-server>=1.24.0->jupyter-server-proxy) (0.10.0)\n",
      "Requirement already satisfied: jupyter-server-terminals>=0.4.4 in c:\\users\\komal\\anaconda3\\envs\\myenv\\lib\\site-packages (from jupyter-server>=1.24.0->jupyter-server-proxy) (0.4.4)\n",
      "Requirement already satisfied: nbconvert>=6.4.4 in c:\\users\\komal\\anaconda3\\envs\\myenv\\lib\\site-packages (from jupyter-server>=1.24.0->jupyter-server-proxy) (7.16.4)\n",
      "Requirement already satisfied: nbformat>=5.3.0 in c:\\users\\komal\\anaconda3\\envs\\myenv\\lib\\site-packages (from jupyter-server>=1.24.0->jupyter-server-proxy) (5.10.4)\n",
      "Requirement already satisfied: overrides>=5.0 in c:\\users\\komal\\anaconda3\\envs\\myenv\\lib\\site-packages (from jupyter-server>=1.24.0->jupyter-server-proxy) (7.4.0)\n",
      "Requirement already satisfied: packaging>=22.0 in c:\\users\\komal\\anaconda3\\envs\\myenv\\lib\\site-packages (from jupyter-server>=1.24.0->jupyter-server-proxy) (24.1)\n",
      "Requirement already satisfied: prometheus-client>=0.9 in c:\\users\\komal\\anaconda3\\envs\\myenv\\lib\\site-packages (from jupyter-server>=1.24.0->jupyter-server-proxy) (0.14.1)\n",
      "Requirement already satisfied: pywinpty>=2.0.1 in c:\\users\\komal\\anaconda3\\envs\\myenv\\lib\\site-packages (from jupyter-server>=1.24.0->jupyter-server-proxy) (2.0.10)\n",
      "Requirement already satisfied: pyzmq>=24 in c:\\users\\komal\\anaconda3\\envs\\myenv\\lib\\site-packages (from jupyter-server>=1.24.0->jupyter-server-proxy) (25.1.2)\n",
      "Requirement already satisfied: send2trash>=1.8.2 in c:\\users\\komal\\anaconda3\\envs\\myenv\\lib\\site-packages (from jupyter-server>=1.24.0->jupyter-server-proxy) (1.8.2)\n",
      "Requirement already satisfied: terminado>=0.8.3 in c:\\users\\komal\\anaconda3\\envs\\myenv\\lib\\site-packages (from jupyter-server>=1.24.0->jupyter-server-proxy) (0.17.1)\n",
      "Requirement already satisfied: websocket-client>=1.7 in c:\\users\\komal\\anaconda3\\envs\\myenv\\lib\\site-packages (from jupyter-server>=1.24.0->jupyter-server-proxy) (1.8.0)\n",
      "Requirement already satisfied: aiohappyeyeballs>=2.3.0 in c:\\users\\komal\\anaconda3\\envs\\myenv\\lib\\site-packages (from aiohttp->jupyter-server-proxy) (2.4.3)\n",
      "Requirement already satisfied: aiosignal>=1.1.2 in c:\\users\\komal\\anaconda3\\envs\\myenv\\lib\\site-packages (from aiohttp->jupyter-server-proxy) (1.3.1)\n",
      "Requirement already satisfied: attrs>=17.3.0 in c:\\users\\komal\\anaconda3\\envs\\myenv\\lib\\site-packages (from aiohttp->jupyter-server-proxy) (24.2.0)\n",
      "Requirement already satisfied: frozenlist>=1.1.1 in c:\\users\\komal\\anaconda3\\envs\\myenv\\lib\\site-packages (from aiohttp->jupyter-server-proxy) (1.5.0)\n",
      "Requirement already satisfied: multidict<7.0,>=4.5 in c:\\users\\komal\\anaconda3\\envs\\myenv\\lib\\site-packages (from aiohttp->jupyter-server-proxy) (6.1.0)\n",
      "Requirement already satisfied: yarl<2.0,>=1.12.0 in c:\\users\\komal\\anaconda3\\envs\\myenv\\lib\\site-packages (from aiohttp->jupyter-server-proxy) (1.17.1)\n",
      "Requirement already satisfied: async-timeout<5.0,>=4.0 in c:\\users\\komal\\anaconda3\\envs\\myenv\\lib\\site-packages (from aiohttp->jupyter-server-proxy) (4.0.3)\n",
      "Requirement already satisfied: idna>=2.8 in c:\\users\\komal\\anaconda3\\envs\\myenv\\lib\\site-packages (from anyio>=3.1.0->jupyter-server>=1.24.0->jupyter-server-proxy) (3.7)\n",
      "Requirement already satisfied: sniffio>=1.1 in c:\\users\\komal\\anaconda3\\envs\\myenv\\lib\\site-packages (from anyio>=3.1.0->jupyter-server>=1.24.0->jupyter-server-proxy) (1.3.0)\n",
      "Requirement already satisfied: exceptiongroup in c:\\users\\komal\\anaconda3\\envs\\myenv\\lib\\site-packages (from anyio>=3.1.0->jupyter-server>=1.24.0->jupyter-server-proxy) (1.2.0)\n",
      "Requirement already satisfied: argon2-cffi-bindings in c:\\users\\komal\\anaconda3\\envs\\myenv\\lib\\site-packages (from argon2-cffi>=21.1->jupyter-server>=1.24.0->jupyter-server-proxy) (21.2.0)\n",
      "Requirement already satisfied: MarkupSafe>=2.0 in c:\\users\\komal\\anaconda3\\envs\\myenv\\lib\\site-packages (from jinja2>=3.0.3->jupyter-server>=1.24.0->jupyter-server-proxy) (2.1.3)\n",
      "Requirement already satisfied: python-dateutil>=2.8.2 in c:\\users\\komal\\anaconda3\\envs\\myenv\\lib\\site-packages (from jupyter-client>=7.4.4->jupyter-server>=1.24.0->jupyter-server-proxy) (2.9.0.post0)\n",
      "Requirement already satisfied: platformdirs>=2.5 in c:\\users\\komal\\anaconda3\\envs\\myenv\\lib\\site-packages (from jupyter-core!=5.0.*,>=4.12->jupyter-server>=1.24.0->jupyter-server-proxy) (3.10.0)\n",
      "Requirement already satisfied: pywin32>=300 in c:\\users\\komal\\anaconda3\\envs\\myenv\\lib\\site-packages (from jupyter-core!=5.0.*,>=4.12->jupyter-server>=1.24.0->jupyter-server-proxy) (305.1)\n",
      "Requirement already satisfied: jsonschema>=4.18.0 in c:\\users\\komal\\anaconda3\\envs\\myenv\\lib\\site-packages (from jsonschema[format-nongpl]>=4.18.0->jupyter-events>=0.9.0->jupyter-server>=1.24.0->jupyter-server-proxy) (4.23.0)\n",
      "Requirement already satisfied: python-json-logger>=2.0.4 in c:\\users\\komal\\anaconda3\\envs\\myenv\\lib\\site-packages (from jupyter-events>=0.9.0->jupyter-server>=1.24.0->jupyter-server-proxy) (2.0.7)\n",
      "Requirement already satisfied: pyyaml>=5.3 in c:\\users\\komal\\anaconda3\\envs\\myenv\\lib\\site-packages (from jupyter-events>=0.9.0->jupyter-server>=1.24.0->jupyter-server-proxy) (6.0.2)\n",
      "Requirement already satisfied: referencing in c:\\users\\komal\\anaconda3\\envs\\myenv\\lib\\site-packages (from jupyter-events>=0.9.0->jupyter-server>=1.24.0->jupyter-server-proxy) (0.30.2)\n",
      "Requirement already satisfied: rfc3339-validator in c:\\users\\komal\\anaconda3\\envs\\myenv\\lib\\site-packages (from jupyter-events>=0.9.0->jupyter-server>=1.24.0->jupyter-server-proxy) (0.1.4)\n",
      "Requirement already satisfied: rfc3986-validator>=0.1.1 in c:\\users\\komal\\anaconda3\\envs\\myenv\\lib\\site-packages (from jupyter-events>=0.9.0->jupyter-server>=1.24.0->jupyter-server-proxy) (0.1.1)\n",
      "Requirement already satisfied: typing-extensions>=4.1.0 in c:\\users\\komal\\anaconda3\\envs\\myenv\\lib\\site-packages (from multidict<7.0,>=4.5->aiohttp->jupyter-server-proxy) (4.11.0)\n",
      "Requirement already satisfied: beautifulsoup4 in c:\\users\\komal\\anaconda3\\envs\\myenv\\lib\\site-packages (from nbconvert>=6.4.4->jupyter-server>=1.24.0->jupyter-server-proxy) (4.12.3)\n",
      "Requirement already satisfied: bleach!=5.0.0 in c:\\users\\komal\\anaconda3\\envs\\myenv\\lib\\site-packages (from nbconvert>=6.4.4->jupyter-server>=1.24.0->jupyter-server-proxy) (4.1.0)\n",
      "Requirement already satisfied: defusedxml in c:\\users\\komal\\anaconda3\\envs\\myenv\\lib\\site-packages (from nbconvert>=6.4.4->jupyter-server>=1.24.0->jupyter-server-proxy) (0.7.1)\n",
      "Requirement already satisfied: jupyterlab-pygments in c:\\users\\komal\\anaconda3\\envs\\myenv\\lib\\site-packages (from nbconvert>=6.4.4->jupyter-server>=1.24.0->jupyter-server-proxy) (0.1.2)\n",
      "Requirement already satisfied: mistune<4,>=2.0.3 in c:\\users\\komal\\anaconda3\\envs\\myenv\\lib\\site-packages (from nbconvert>=6.4.4->jupyter-server>=1.24.0->jupyter-server-proxy) (2.0.4)\n",
      "Requirement already satisfied: nbclient>=0.5.0 in c:\\users\\komal\\anaconda3\\envs\\myenv\\lib\\site-packages (from nbconvert>=6.4.4->jupyter-server>=1.24.0->jupyter-server-proxy) (0.6.8)\n",
      "Requirement already satisfied: pandocfilters>=1.4.1 in c:\\users\\komal\\anaconda3\\envs\\myenv\\lib\\site-packages (from nbconvert>=6.4.4->jupyter-server>=1.24.0->jupyter-server-proxy) (1.5.0)\n",
      "Requirement already satisfied: pygments>=2.4.1 in c:\\users\\komal\\anaconda3\\envs\\myenv\\lib\\site-packages (from nbconvert>=6.4.4->jupyter-server>=1.24.0->jupyter-server-proxy) (2.15.1)\n",
      "Requirement already satisfied: tinycss2 in c:\\users\\komal\\anaconda3\\envs\\myenv\\lib\\site-packages (from nbconvert>=6.4.4->jupyter-server>=1.24.0->jupyter-server-proxy) (1.2.1)\n",
      "Requirement already satisfied: fastjsonschema>=2.15 in c:\\users\\komal\\anaconda3\\envs\\myenv\\lib\\site-packages (from nbformat>=5.3.0->jupyter-server>=1.24.0->jupyter-server-proxy) (2.16.2)\n",
      "Requirement already satisfied: propcache>=0.2.0 in c:\\users\\komal\\anaconda3\\envs\\myenv\\lib\\site-packages (from yarl<2.0,>=1.12.0->aiohttp->jupyter-server-proxy) (0.2.0)\n",
      "Requirement already satisfied: six>=1.9.0 in c:\\users\\komal\\anaconda3\\envs\\myenv\\lib\\site-packages (from bleach!=5.0.0->nbconvert>=6.4.4->jupyter-server>=1.24.0->jupyter-server-proxy) (1.16.0)\n",
      "Requirement already satisfied: webencodings in c:\\users\\komal\\anaconda3\\envs\\myenv\\lib\\site-packages (from bleach!=5.0.0->nbconvert>=6.4.4->jupyter-server>=1.24.0->jupyter-server-proxy) (0.5.1)\n",
      "Requirement already satisfied: jsonschema-specifications>=2023.03.6 in c:\\users\\komal\\anaconda3\\envs\\myenv\\lib\\site-packages (from jsonschema>=4.18.0->jsonschema[format-nongpl]>=4.18.0->jupyter-events>=0.9.0->jupyter-server>=1.24.0->jupyter-server-proxy) (2023.7.1)\n",
      "Requirement already satisfied: rpds-py>=0.7.1 in c:\\users\\komal\\anaconda3\\envs\\myenv\\lib\\site-packages (from jsonschema>=4.18.0->jsonschema[format-nongpl]>=4.18.0->jupyter-events>=0.9.0->jupyter-server>=1.24.0->jupyter-server-proxy) (0.10.6)\n",
      "Requirement already satisfied: fqdn in c:\\users\\komal\\anaconda3\\envs\\myenv\\lib\\site-packages (from jsonschema[format-nongpl]>=4.18.0->jupyter-events>=0.9.0->jupyter-server>=1.24.0->jupyter-server-proxy) (1.5.1)\n",
      "Requirement already satisfied: isoduration in c:\\users\\komal\\anaconda3\\envs\\myenv\\lib\\site-packages (from jsonschema[format-nongpl]>=4.18.0->jupyter-events>=0.9.0->jupyter-server>=1.24.0->jupyter-server-proxy) (20.11.0)\n",
      "Requirement already satisfied: jsonpointer>1.13 in c:\\users\\komal\\anaconda3\\envs\\myenv\\lib\\site-packages (from jsonschema[format-nongpl]>=4.18.0->jupyter-events>=0.9.0->jupyter-server>=1.24.0->jupyter-server-proxy) (3.0.0)\n",
      "Requirement already satisfied: uri-template in c:\\users\\komal\\anaconda3\\envs\\myenv\\lib\\site-packages (from jsonschema[format-nongpl]>=4.18.0->jupyter-events>=0.9.0->jupyter-server>=1.24.0->jupyter-server-proxy) (1.3.0)\n",
      "Requirement already satisfied: webcolors>=24.6.0 in c:\\users\\komal\\anaconda3\\envs\\myenv\\lib\\site-packages (from jsonschema[format-nongpl]>=4.18.0->jupyter-events>=0.9.0->jupyter-server>=1.24.0->jupyter-server-proxy) (24.8.0)\n",
      "Requirement already satisfied: nest-asyncio in c:\\users\\komal\\anaconda3\\envs\\myenv\\lib\\site-packages (from nbclient>=0.5.0->nbconvert>=6.4.4->jupyter-server>=1.24.0->jupyter-server-proxy) (1.6.0)\n",
      "Requirement already satisfied: cffi>=1.0.1 in c:\\users\\komal\\anaconda3\\envs\\myenv\\lib\\site-packages (from argon2-cffi-bindings->argon2-cffi>=21.1->jupyter-server>=1.24.0->jupyter-server-proxy) (1.17.1)\n",
      "Requirement already satisfied: soupsieve>1.2 in c:\\users\\komal\\anaconda3\\envs\\myenv\\lib\\site-packages (from beautifulsoup4->nbconvert>=6.4.4->jupyter-server>=1.24.0->jupyter-server-proxy) (2.5)\n",
      "Requirement already satisfied: pycparser in c:\\users\\komal\\anaconda3\\envs\\myenv\\lib\\site-packages (from cffi>=1.0.1->argon2-cffi-bindings->argon2-cffi>=21.1->jupyter-server>=1.24.0->jupyter-server-proxy) (2.21)\n",
      "Requirement already satisfied: arrow>=0.15.0 in c:\\users\\komal\\anaconda3\\envs\\myenv\\lib\\site-packages (from isoduration->jsonschema[format-nongpl]>=4.18.0->jupyter-events>=0.9.0->jupyter-server>=1.24.0->jupyter-server-proxy) (1.3.0)\n",
      "Requirement already satisfied: types-python-dateutil>=2.8.10 in c:\\users\\komal\\anaconda3\\envs\\myenv\\lib\\site-packages (from arrow>=0.15.0->isoduration->jsonschema[format-nongpl]>=4.18.0->jupyter-events>=0.9.0->jupyter-server>=1.24.0->jupyter-server-proxy) (2.9.0.20241003)\n",
      "Downloading jupyter_server_proxy-4.4.0-py3-none-any.whl (37 kB)\n",
      "Downloading simpervisor-1.0.0-py3-none-any.whl (8.3 kB)\n",
      "Installing collected packages: simpervisor, jupyter-server-proxy\n",
      "Successfully installed jupyter-server-proxy-4.4.0 simpervisor-1.0.0\n",
      "Note: you may need to restart the kernel to use updated packages.\n"
     ]
    }
   ],
   "source": [
    "pip install jupyter-server-proxy"
   ]
  },
  {
   "cell_type": "code",
   "execution_count": null,
   "id": "0614e777-9a5a-4c36-be77-bac285ea7c39",
   "metadata": {},
   "outputs": [],
   "source": []
  }
 ],
 "metadata": {
  "kernelspec": {
   "display_name": "Python (myenv)",
   "language": "python",
   "name": "myenv"
  },
  "language_info": {
   "codemirror_mode": {
    "name": "ipython",
    "version": 3
   },
   "file_extension": ".py",
   "mimetype": "text/x-python",
   "name": "python",
   "nbconvert_exporter": "python",
   "pygments_lexer": "ipython3",
   "version": "3.9.20"
  }
 },
 "nbformat": 4,
 "nbformat_minor": 5
}
